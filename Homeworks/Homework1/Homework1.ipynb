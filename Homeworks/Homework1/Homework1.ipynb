{
 "cells": [
  {
   "cell_type": "markdown",
   "id": "aea024cf",
   "metadata": {},
   "source": [
    "Homework 1"
   ]
  },
  {
   "cell_type": "code",
   "execution_count": 1,
   "id": "5a918370",
   "metadata": {},
   "outputs": [],
   "source": [
    "import numpy as np"
   ]
  },
  {
   "cell_type": "code",
   "execution_count": 2,
   "id": "5822609a",
   "metadata": {},
   "outputs": [],
   "source": [
    "n=100\n",
    "arr=np.random.random((n,n))"
   ]
  },
  {
   "cell_type": "code",
   "execution_count": 3,
   "id": "4ae1ddd6",
   "metadata": {},
   "outputs": [],
   "source": [
    "def ikjMatrixProduct(A, B):\n",
    "    n = len(A)\n",
    "    C = np.zeros((n,n))\n",
    "    for i in range(n):\n",
    "        for k in range(n):\n",
    "            for j in range(n):\n",
    "                C[i][j] += A[i][k] * B[k][j]\n",
    "    return C"
   ]
  },
  {
   "cell_type": "code",
   "execution_count": 4,
   "id": "f06cd370",
   "metadata": {},
   "outputs": [
    {
     "name": "stdout",
     "output_type": "stream",
     "text": [
      "Numpy algorithm: \n",
      "\n",
      "64 µs ± 659 ns per loop (mean ± std. dev. of 7 runs, 10000 loops each)\n",
      "Matrix algorithm: \n",
      "\n",
      "625 ms ± 2.28 ms per loop (mean ± std. dev. of 7 runs, 1 loop each)\n"
     ]
    }
   ],
   "source": [
    "print('Numpy algorithm: \\n')\n",
    "%timeit np.dot(arr,arr)\n",
    "print('Matrix algorithm: \\n')\n",
    "%timeit ikjMatrixProduct(arr,arr)\n"
   ]
  }
 ],
 "metadata": {
  "kernelspec": {
   "display_name": "Python 3 (ipykernel)",
   "language": "python",
   "name": "python3"
  },
  "language_info": {
   "codemirror_mode": {
    "name": "ipython",
    "version": 3
   },
   "file_extension": ".py",
   "mimetype": "text/x-python",
   "name": "python",
   "nbconvert_exporter": "python",
   "pygments_lexer": "ipython3",
   "version": "3.9.7"
  }
 },
 "nbformat": 4,
 "nbformat_minor": 5
}
